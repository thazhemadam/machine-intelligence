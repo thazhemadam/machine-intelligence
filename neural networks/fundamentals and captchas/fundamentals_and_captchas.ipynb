{
 "cells": [
  {
   "cell_type": "markdown",
   "metadata": {},
   "source": [
    "# Neural Networks\n",
    "\n",
    "Neural Networks created using concepts as described in [Data Science from Scratch, 2nd Edition](http://shop.oreilly.com/product/0636920179337.do) on neural networks."
   ]
  },
  {
   "cell_type": "code",
   "execution_count": 1,
   "metadata": {},
   "outputs": [],
   "source": [
    "import math\n",
    "import random\n",
    "import matplotlib.pyplot as plt"
   ]
  },
  {
   "cell_type": "markdown",
   "metadata": {},
   "source": [
    "## Perceptron"
   ]
  },
  {
   "cell_type": "markdown",
   "metadata": {},
   "source": [
    "Simplest neural network, that approximates a single neuron with n binary inputs. \n",
    "\n",
    "It computes a weightes sum of its inputs and \"fires\" if that weighted sum is zero or greater."
   ]
  },
  {
   "cell_type": "code",
   "execution_count": 2,
   "metadata": {},
   "outputs": [],
   "source": [
    "def step_function(x):\n",
    "    return 1 if x >= 0 else 0"
   ]
  },
  {
   "cell_type": "code",
   "execution_count": 3,
   "metadata": {},
   "outputs": [],
   "source": [
    "def dot(v, w):\n",
    "    \"\"\"\n",
    "    dot product of v and w\n",
    "    \"\"\"\n",
    "    return sum(v_i * w_i for v_i, w_i in zip(v, w))"
   ]
  },
  {
   "cell_type": "code",
   "execution_count": 4,
   "metadata": {},
   "outputs": [],
   "source": [
    "def perceptron(weights, bias, x):\n",
    "    \"\"\"returns 1 if the perceptron 'fires', 0 if not\"\"\"\n",
    "    return step_function(dot(weights, x) + bias)"
   ]
  },
  {
   "cell_type": "markdown",
   "metadata": {},
   "source": [
    "### AND Gate"
   ]
  },
  {
   "cell_type": "code",
   "execution_count": 5,
   "metadata": {},
   "outputs": [
    {
     "data": {
      "text/plain": [
       "1"
      ]
     },
     "execution_count": 5,
     "metadata": {},
     "output_type": "execute_result"
    }
   ],
   "source": [
    "weights = [2, 2]\n",
    "bias = -3\n",
    "perceptron(weights, bias, [1, 1])"
   ]
  },
  {
   "cell_type": "markdown",
   "metadata": {},
   "source": [
    "### OR Gate"
   ]
  },
  {
   "cell_type": "code",
   "execution_count": 6,
   "metadata": {},
   "outputs": [
    {
     "data": {
      "text/plain": [
       "0"
      ]
     },
     "execution_count": 6,
     "metadata": {},
     "output_type": "execute_result"
    }
   ],
   "source": [
    "weights = [2, 2]\n",
    "bias = -1\n",
    "perceptron(weights, bias, [0, 0])"
   ]
  },
  {
   "cell_type": "code",
   "execution_count": 7,
   "metadata": {},
   "outputs": [],
   "source": [
    "###Decision Space for a Two-Input Perceptron"
   ]
  },
  {
   "cell_type": "markdown",
   "metadata": {},
   "source": [
    "## Feed-Forward Neural Networks"
   ]
  },
  {
   "cell_type": "code",
   "execution_count": 8,
   "metadata": {},
   "outputs": [],
   "source": [
    "def sigmoid(t):\n",
    "    return 1 / (1 + math.exp(-t))"
   ]
  },
  {
   "cell_type": "code",
   "execution_count": 9,
   "metadata": {
    "scrolled": true
   },
   "outputs": [
    {
     "data": {
      "image/png": "[encoded data removed]",
      "text/plain": [
       "<Figure size 432x288 with 1 Axes>"
      ]
     },
     "metadata": {
      "needs_background": "light"
     },
     "output_type": "display_data"
    }
   ],
   "source": [
    "z = [zi/50 - 10 for zi in range(1000)]\n",
    "plt.plot(z, [step_function(zi) for zi in z], '--', label='step')\n",
    "plt.plot(z, [sigmoid(zi) for zi in z], label='sigmoid')\n",
    "plt.title('step vs sigmoid')\n",
    "plt.legend()\n",
    "plt.show()"
   ]
  },
  {
   "cell_type": "markdown",
   "metadata": {},
   "source": [
    "### Why sigmoid?\n",
    "In order to train a neural\n",
    "network, we’ll need to use calculus, and in order to use calculus, we need smooth\n",
    "functions. The step function isn’t even continuous, and sigmoid is a good smooth\n",
    "approximation of it."
   ]
  },
  {
   "cell_type": "code",
   "execution_count": 10,
   "metadata": {},
   "outputs": [],
   "source": [
    "def neuron_output(weights, input_with_bias):\n",
    "    return sigmoid(dot(weights, input_with_bias))"
   ]
  },
  {
   "cell_type": "code",
   "execution_count": 11,
   "metadata": {},
   "outputs": [],
   "source": [
    "def feed_forward(neural_network, input_vector):\n",
    "    \"\"\"takes in a neural network (represented as a list of lists of lists of weights)\n",
    "    and returns the output from forward-propagating the input\"\"\"\n",
    "    \n",
    "    outputs = []\n",
    "    \n",
    "    for layer in neural_network:\n",
    "        input_with_bias = input_vector + [1]\n",
    "        output = [neuron_output(neuron, input_with_bias)\n",
    "                  for neuron in layer]\n",
    "        outputs.append(output)\n",
    "        # the input to the next layer is the output of this one\n",
    "        input_vector = output\n",
    "    \n",
    "    return outputs"
   ]
  },
  {
   "cell_type": "markdown",
   "metadata": {},
   "source": [
    "### Building an XOR Gate"
   ]
  },
  {
   "cell_type": "code",
   "execution_count": 12,
   "metadata": {},
   "outputs": [],
   "source": [
    "xor_network = [\n",
    "    [[20, 20, -30], [20, 20, -10]],\n",
    "    [[-60, 60, -30]]\n",
    "]"
   ]
  },
  {
   "cell_type": "code",
   "execution_count": 13,
   "metadata": {},
   "outputs": [
    {
     "data": {
      "text/plain": [
       "[[4.5397868702434395e-05, 0.9999546021312976], [0.9999999999999059]]"
      ]
     },
     "execution_count": 13,
     "metadata": {},
     "output_type": "execute_result"
    }
   ],
   "source": [
    "outputs = feed_forward(xor_network,[0, 1])\n",
    "outputs"
   ]
  },
  {
   "cell_type": "code",
   "execution_count": 14,
   "metadata": {},
   "outputs": [
    {
     "name": "stdout",
     "output_type": "stream",
     "text": [
      "0 0 [9.38314668300676e-14]\n",
      "0 1 [0.9999999999999059]\n",
      "1 0 [0.9999999999999059]\n",
      "1 1 [9.383146683006828e-14]\n"
     ]
    }
   ],
   "source": [
    "for x in [0,1]:\n",
    "    for y in [0,1]:\n",
    "        print(x, y, feed_forward(xor_network,[x, y])[-1])"
   ]
  },
  {
   "cell_type": "markdown",
   "metadata": {},
   "source": [
    "## Backpropagation"
   ]
  },
  {
   "cell_type": "code",
   "execution_count": 15,
   "metadata": {},
   "outputs": [],
   "source": [
    "def backpropagate(network, input_vector, targets):\n",
    "    \"\"\"\n",
    "    Adjust the weights in the network in place based on a single\n",
    "    labeled training example.\n",
    "    \"\"\"\n",
    "    hidden_outputs, outputs = feed_forward(network, input_vector)\n",
    "    \n",
    "    # the output * (1 - output) is from the derivative of sigmoid\n",
    "    output_deltas = [output * (1 - output) * (output - target)\n",
    "                     for output, target in zip(outputs, targets)]\n",
    "    \n",
    "    # adjust weights for output layer, one neuron at a time\n",
    "    for i, output_neuron in enumerate(network[-1]):\n",
    "\n",
    "        # focus on the ith output layer neuron\n",
    "        for j, hidden_output in enumerate(hidden_outputs + [1]):\n",
    "\n",
    "            # adjust the jth weight based on both\n",
    "            # this neuron's delta and its jth input\n",
    "            output_neuron[j] -= output_deltas[i] * hidden_output\n",
    "    \n",
    "    # back-propagate errors to hidden layer\n",
    "    hidden_deltas = [hidden_output * (1 - hidden_output) *\n",
    "                         dot(output_deltas, [n[i] for n in network[-1]])\n",
    "                     for i, hidden_output in enumerate(hidden_outputs)]\n",
    "\n",
    "    # adjust weights for hidden layer, one neuron at a time\n",
    "    for i, hidden_neuron in enumerate(network[0]):\n",
    "        for j, input in enumerate(input_vector + [1]):\n",
    "            hidden_neuron[j] -= hidden_deltas[i] * input"
   ]
  },
  {
   "cell_type": "markdown",
   "metadata": {},
   "source": [
    "### train XOR"
   ]
  },
  {
   "cell_type": "markdown",
   "metadata": {},
   "source": [
    "#### Randomly initialize"
   ]
  },
  {
   "cell_type": "code",
   "execution_count": 16,
   "metadata": {},
   "outputs": [],
   "source": [
    "nn = [\n",
    "    [[random.normalvariate(0, 1/3), random.normalvariate(0, 1/3), random.normalvariate(0, 1/3)],\n",
    "     [random.normalvariate(0, 1/3), random.normalvariate(0, 1/3), random.normalvariate(0, 1/3)]],\n",
    "    [[random.normalvariate(0, 1/3), random.normalvariate(0, 1/3), random.normalvariate(0, 1/3)]]\n",
    "]"
   ]
  },
  {
   "cell_type": "markdown",
   "metadata": {},
   "source": [
    "#### train network"
   ]
  },
  {
   "cell_type": "code",
   "execution_count": 17,
   "metadata": {},
   "outputs": [],
   "source": [
    "training_set = [\n",
    "    [[0,0], [0]],\n",
    "    [[0,1], [1]],\n",
    "    [[1,0], [1]],\n",
    "    [[1,1], [0]]    \n",
    "]"
   ]
  },
  {
   "cell_type": "code",
   "execution_count": 18,
   "metadata": {},
   "outputs": [],
   "source": [
    "for _ in range(10000):\n",
    "    for input_vector, targets in random.sample(training_set, len(training_set)):\n",
    "        backpropagate(nn, input_vector, targets)"
   ]
  },
  {
   "cell_type": "code",
   "execution_count": 19,
   "metadata": {},
   "outputs": [
    {
     "data": {
      "text/plain": [
       "[[[4.316664845817744, 4.316637673574046, -6.4791500604807934],\n",
       "  [9.112178464774848, 9.111312830776974, -2.561749180451918]],\n",
       " [[-9.196006427433135, 9.17884070427752, -4.497835320169993]]]"
      ]
     },
     "execution_count": 19,
     "metadata": {},
     "output_type": "execute_result"
    }
   ],
   "source": [
    "nn"
   ]
  },
  {
   "cell_type": "markdown",
   "metadata": {},
   "source": [
    "#### Predict"
   ]
  },
  {
   "cell_type": "code",
   "execution_count": 20,
   "metadata": {},
   "outputs": [
    {
     "name": "stdout",
     "output_type": "stream",
     "text": [
      "[0, 0] [0.020747816587668888]\n",
      "[0, 1] [0.9763200141110439]\n",
      "[1, 0] [0.976319741551754]\n",
      "[1, 1] [0.027675706528516506]\n"
     ]
    }
   ],
   "source": [
    "for input_vector, targets in training_set:\n",
    "    output = feed_forward(nn, input_vector)\n",
    "    print(input_vector, output[-1])"
   ]
  },
  {
   "cell_type": "markdown",
   "metadata": {},
   "source": [
    "## Example: Defeating a CAPTCHA"
   ]
  },
  {
   "cell_type": "code",
   "execution_count": 21,
   "metadata": {},
   "outputs": [],
   "source": [
    "raw_digits = [\n",
    "      \"\"\"11111\n",
    "         1...1\n",
    "         1...1\n",
    "         1...1\n",
    "         11111\"\"\",\n",
    "\n",
    "      \"\"\"..1..\n",
    "         ..1..\n",
    "         ..1..\n",
    "         ..1..\n",
    "         ..1..\"\"\",\n",
    "\n",
    "      \"\"\"11111\n",
    "         ....1\n",
    "         11111\n",
    "         1....\n",
    "         11111\"\"\",\n",
    "\n",
    "      \"\"\"11111\n",
    "         ....1\n",
    "         11111\n",
    "         ....1\n",
    "         11111\"\"\",\n",
    "\n",
    "      \"\"\"1...1\n",
    "         1...1\n",
    "         11111\n",
    "         ....1\n",
    "         ....1\"\"\",\n",
    "\n",
    "      \"\"\"11111\n",
    "         1....\n",
    "         11111\n",
    "         ....1\n",
    "         11111\"\"\",\n",
    "\n",
    "      \"\"\"11111\n",
    "         1....\n",
    "         11111\n",
    "         1...1\n",
    "         11111\"\"\",\n",
    "\n",
    "      \"\"\"11111\n",
    "         ....1\n",
    "         ....1\n",
    "         ....1\n",
    "         ....1\"\"\",\n",
    "\n",
    "      \"\"\"11111\n",
    "         1...1\n",
    "         11111\n",
    "         1...1\n",
    "         11111\"\"\",\n",
    "\n",
    "      \"\"\"11111\n",
    "         1...1\n",
    "         11111\n",
    "         ....1\n",
    "         11111\"\"\"]"
   ]
  },
  {
   "cell_type": "code",
   "execution_count": 22,
   "metadata": {},
   "outputs": [],
   "source": [
    "#Obtain the 25 character list, for each digit, that represents the digit.\n",
    "def make_digit(raw_digit):\n",
    "    return [1 if c == '1' else 0\n",
    "            for row in raw_digit.split(\"\\n\")\n",
    "            for c in row.strip()]"
   ]
  },
  {
   "cell_type": "code",
   "execution_count": 23,
   "metadata": {},
   "outputs": [],
   "source": [
    "inputs = [make_digit(digit) for digit in raw_digits]\n"
   ]
  },
  {
   "cell_type": "code",
   "execution_count": 24,
   "metadata": {},
   "outputs": [],
   "source": [
    "# one-hot encode digits 0-9\n",
    "targets = [[1 if i == j else 0 for i in range(10)] for j in range(10)]"
   ]
  },
  {
   "cell_type": "code",
   "execution_count": 25,
   "metadata": {},
   "outputs": [],
   "source": [
    "random.seed(0)     # to get repeatable results\n",
    "input_size = 25    # each input is a vector of length 25\n",
    "num_hidden = 5     # we'll have 5 neurons in the hidden layer\n",
    "output_size = 10   # we need 10 outputs for each input"
   ]
  },
  {
   "cell_type": "markdown",
   "metadata": {},
   "source": [
    "#### Randomly initialize weights"
   ]
  },
  {
   "cell_type": "code",
   "execution_count": 26,
   "metadata": {},
   "outputs": [],
   "source": [
    "# each hidden neuron has one weight per input, plus a bias weight\n",
    "hidden_layer = [[random.random() for _ in range(input_size + 1)]\n",
    "                for _ in range(num_hidden)]"
   ]
  },
  {
   "cell_type": "code",
   "execution_count": 27,
   "metadata": {},
   "outputs": [],
   "source": [
    "# each output neuron has one weight per hidden neuron, plus a bias weight\n",
    "output_layer = [[random.random() for _ in range(num_hidden + 1)]\n",
    "                for _ in range(output_size)]"
   ]
  },
  {
   "cell_type": "code",
   "execution_count": 28,
   "metadata": {},
   "outputs": [],
   "source": [
    "# the network starts out with random weights\n",
    "network = [hidden_layer, output_layer]"
   ]
  },
  {
   "cell_type": "code",
   "execution_count": 29,
   "metadata": {},
   "outputs": [],
   "source": [
    "for _ in range(10000):\n",
    "    for input_vector, target_vector in zip(inputs, targets):\n",
    "        backpropagate(network, input_vector, target_vector)"
   ]
  },
  {
   "cell_type": "code",
   "execution_count": 30,
   "metadata": {},
   "outputs": [],
   "source": [
    "def predict(input):\n",
    "    return feed_forward(network, input)[-1]"
   ]
  },
  {
   "cell_type": "code",
   "execution_count": 31,
   "metadata": {},
   "outputs": [
    {
     "data": {
      "text/plain": [
       "[0.024099252251227495,\n",
       " 6.535805275537946e-06,\n",
       " 7.82498285497602e-11,\n",
       " 0.017301919554017466,\n",
       " 0.0011793422713514314,\n",
       " 6.648285303812686e-10,\n",
       " 4.480803518696326e-08,\n",
       " 0.969007735053818,\n",
       " 1.0889968608877994e-08,\n",
       " 2.565215480544878e-08]"
      ]
     },
     "execution_count": 31,
     "metadata": {},
     "output_type": "execute_result"
    }
   ],
   "source": [
    "predict(inputs[7])"
   ]
  },
  {
   "cell_type": "code",
   "execution_count": 32,
   "metadata": {},
   "outputs": [
    {
     "data": {
      "text/plain": [
       "[8.089379748597191e-09,\n",
       " 0.0015111927756024143,\n",
       " 1.2269558364879473e-08,\n",
       " 0.9449497176995292,\n",
       " 6.320723731390414e-07,\n",
       " 4.772839810266144e-06,\n",
       " 2.566661329270676e-10,\n",
       " 0.009159247290970103,\n",
       " 6.425186805525349e-08,\n",
       " 0.1296193147755028]"
      ]
     },
     "execution_count": 32,
     "metadata": {},
     "output_type": "execute_result"
    }
   ],
   "source": [
    "predict([0,1,1,1,0,\n",
    "         0,0,0,1,1,\n",
    "         0,0,1,1,0,\n",
    "         0,0,0,1,1,\n",
    "         0,1,1,1,0])"
   ]
  },
  {
   "cell_type": "code",
   "execution_count": 33,
   "metadata": {},
   "outputs": [
    {
     "data": {
      "text/plain": [
       "[2.8398960946147525e-06,\n",
       " 3.420730717233115e-13,\n",
       " 7.377641549372272e-09,\n",
       " 0.0003464790956137235,\n",
       " 1.3653801311139735e-10,\n",
       " 0.5915126275536223,\n",
       " 2.9656227284800537e-05,\n",
       " 1.7741535556168957e-07,\n",
       " 0.9492129655894995,\n",
       " 0.9961441866705154]"
      ]
     },
     "execution_count": 33,
     "metadata": {},
     "output_type": "execute_result"
    }
   ],
   "source": [
    "predict([0,1,1,1,0, # .@@@.\n",
    "         1,0,0,1,1, # @..@@\n",
    "         0,1,1,1,0, # .@@@.\n",
    "         1,0,0,1,1, # @..@@\n",
    "         0,1,1,1,0]) # .@@@."
   ]
  },
  {
   "cell_type": "code",
   "execution_count": 34,
   "metadata": {},
   "outputs": [],
   "source": [
    "import matplotlib"
   ]
  },
  {
   "cell_type": "code",
   "execution_count": 35,
   "metadata": {},
   "outputs": [],
   "source": [
    "def patch(x, y, hatch, color):\n",
    "    \"\"\"\n",
    "    return a matplotlib 'patch' object with the specified\n",
    "    location, crosshatch pattern, and color\n",
    "    \"\"\"\n",
    "    return matplotlib.patches.Rectangle((x - 0.5, y - 0.5),\n",
    "                                        1, 1,\n",
    "                                        hatch=hatch,\n",
    "                                        fill=False,\n",
    "                                        color=color)"
   ]
  },
  {
   "cell_type": "markdown",
   "metadata": {},
   "source": [
    "### Displaying the Hidden Layer"
   ]
  },
  {
   "cell_type": "markdown",
   "metadata": {},
   "source": [
    "#### Display weights on 1<sup>st</sup> neuron"
   ]
  },
  {
   "cell_type": "code",
   "execution_count": 36,
   "metadata": {},
   "outputs": [
    {
     "data": {
      "image/png": "[encoded data removed]",
      "text/plain": [
       "<Figure size 432x288 with 1 Axes>"
      ]
     },
     "metadata": {
      "needs_background": "light"
     },
     "output_type": "display_data"
    }
   ],
   "source": [
    "weights = network[0][0]\n",
    "abs_weights = [abs(w) for w in weights]\n",
    "\n",
    "grid = [abs_weights[row:(row+5)] \n",
    "        for row in range(0,25,5)]\n",
    "\n",
    "ax = plt.gca()\n",
    "ax.imshow(grid,\n",
    "          cmap=matplotlib.cm.binary,\n",
    "          interpolation='none')\n",
    "\n",
    "# cross-hatch the negative weights\n",
    "for i in range(5):\n",
    "    for j in range(5):\n",
    "        if weights[5*i + j] < 0:\n",
    "            ax.add_patch(patch(j, i, '/', \"white\"))\n",
    "            ax.add_patch(patch(j, i, '\\\\', \"black\"))\n",
    "plt.show()"
   ]
  },
  {
   "cell_type": "markdown",
   "metadata": {},
   "source": [
    "#### Display the entire hidden layer"
   ]
  },
  {
   "cell_type": "code",
   "execution_count": 37,
   "metadata": {},
   "outputs": [
    {
     "data": {
      "text/plain": [
       "<Figure size 432x288 with 0 Axes>"
      ]
     },
     "metadata": {},
     "output_type": "display_data"
    },
    {
     "data": {
      "image/png": "[encoded data removed]",
      "text/plain": [
       "<Figure size 1296x720 with 5 Axes>"
      ]
     },
     "metadata": {
      "needs_background": "light"
     },
     "output_type": "display_data"
    }
   ],
   "source": [
    "plt.subplots_adjust(wspace=0.5)\n",
    "fig, ax = plt.subplots(figsize=(18, 10))\n",
    "\n",
    "for k in range(len(network[0])):\n",
    "    weights = network[0][k]\n",
    "    abs_weights = [abs(w) for w in weights]\n",
    "\n",
    "    grid = [abs_weights[row:(row+5)] for row in range(0,25,5)]\n",
    "\n",
    "    ax=plt.subplot(1, 5, k+1)\n",
    "    plt.gca().set_xticks([0,1,2,3,4])\n",
    "    plt.gca().set_yticks([0,1,2,3,4])\n",
    "    ax.imshow(grid,\n",
    "              cmap=matplotlib.cm.binary,\n",
    "              interpolation='none')\n",
    "\n",
    "    # cross-hatch the negative weights\n",
    "    for i in range(5):\n",
    "        for j in range(5):\n",
    "            if weights[5*i + j] < 0:\n",
    "                ax.add_patch(patch(j, i, '/', \"white\"))\n",
    "                ax.add_patch(patch(j, i, '\\\\', \"black\"))\n",
    "\n",
    "plt.show()"
   ]
  },
  {
   "cell_type": "markdown",
   "metadata": {},
   "source": [
    "### Working with some more inputs"
   ]
  },
  {
   "cell_type": "code",
   "execution_count": 38,
   "metadata": {},
   "outputs": [
    {
     "name": "stdout",
     "output_type": "stream",
     "text": [
      "0.9999757061230374\n"
     ]
    }
   ],
   "source": [
    "left_column_only = [1, 0, 0, 0, 0] * 5\n",
    "print(feed_forward(network, left_column_only)[0][0])"
   ]
  },
  {
   "cell_type": "code",
   "execution_count": 39,
   "metadata": {
    "scrolled": true
   },
   "outputs": [
    {
     "name": "stdout",
     "output_type": "stream",
     "text": [
      "0.9454650524875013\n"
     ]
    }
   ],
   "source": [
    "center_middle_row=[0,0,0,0,0]*2+[0,1,1,1,0]+[0,0,0,0,0]*2\n",
    "print(feed_forward(network, center_middle_row)[0][0])"
   ]
  },
  {
   "cell_type": "code",
   "execution_count": 40,
   "metadata": {},
   "outputs": [
    {
     "name": "stdout",
     "output_type": "stream",
     "text": [
      "2.0967428729819267e-09\n"
     ]
    }
   ],
   "source": [
    "right_column_only = [0, 0, 0, 0, 1] * 5\n",
    "print(feed_forward(network, right_column_only)[0][0])"
   ]
  },
  {
   "cell_type": "code",
   "execution_count": 41,
   "metadata": {},
   "outputs": [],
   "source": [
    "\n",
    "my_three = [0,1,1,1,0, # .@@@.\n",
    "            0,0,0,1,1, # ...@@\n",
    "            0,0,1,1,0, # ..@@.\n",
    "            0,0,0,1,1, # ...@@\n",
    "            0,1,1,1,0] # .@@@.\n",
    "\n",
    "hidden, output = feed_forward(network, my_three)\n"
   ]
  },
  {
   "cell_type": "markdown",
   "metadata": {},
   "source": [
    "### References:\n",
    "[Data Science from Scratch, 2nd Edition](http://shop.oreilly.com/product/0636920179337.do)\n",
    "\n"
   ]
  }
 ],
 "metadata": {
  "kernelspec": {
   "display_name": "Python 3",
   "language": "python",
   "name": "python3"
  },
  "language_info": {
   "codemirror_mode": {
    "name": "ipython",
    "version": 3
   },
   "file_extension": ".py",
   "mimetype": "text/x-python",
   "name": "python",
   "nbconvert_exporter": "python",
   "pygments_lexer": "ipython3",
   "version": "3.7.6"
  }
 },
 "nbformat": 4,
 "nbformat_minor": 2
}
